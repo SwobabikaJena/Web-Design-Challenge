{
 "cells": [
  {
   "cell_type": "code",
   "execution_count": 5,
   "metadata": {},
   "outputs": [],
   "source": [
    "import pandas as pd"
   ]
  },
  {
   "cell_type": "code",
   "execution_count": 6,
   "metadata": {},
   "outputs": [],
   "source": [
    "data_file = \"Resources/weather_data.csv\""
   ]
  },
  {
   "cell_type": "code",
   "execution_count": 7,
   "metadata": {},
   "outputs": [
    {
     "data": {
      "text/html": [
       "<div>\n",
       "<style scoped>\n",
       "    .dataframe tbody tr th:only-of-type {\n",
       "        vertical-align: middle;\n",
       "    }\n",
       "\n",
       "    .dataframe tbody tr th {\n",
       "        vertical-align: top;\n",
       "    }\n",
       "\n",
       "    .dataframe thead th {\n",
       "        text-align: right;\n",
       "    }\n",
       "</style>\n",
       "<table border=\"1\" class=\"dataframe\">\n",
       "  <thead>\n",
       "    <tr style=\"text-align: right;\">\n",
       "      <th></th>\n",
       "      <th>City</th>\n",
       "      <th>Lat</th>\n",
       "      <th>Lng</th>\n",
       "      <th>Max temp</th>\n",
       "      <th>Humidity</th>\n",
       "      <th>Cloudiness</th>\n",
       "      <th>Wind Speed</th>\n",
       "      <th>Country</th>\n",
       "      <th>Date</th>\n",
       "    </tr>\n",
       "  </thead>\n",
       "  <tbody>\n",
       "    <tr>\n",
       "      <th>0</th>\n",
       "      <td>San Quintín</td>\n",
       "      <td>30.4833</td>\n",
       "      <td>-115.9500</td>\n",
       "      <td>59.14</td>\n",
       "      <td>51</td>\n",
       "      <td>5</td>\n",
       "      <td>5.79</td>\n",
       "      <td>MX</td>\n",
       "      <td>1610605952</td>\n",
       "    </tr>\n",
       "    <tr>\n",
       "      <th>1</th>\n",
       "      <td>Atuona</td>\n",
       "      <td>-9.8000</td>\n",
       "      <td>-139.0333</td>\n",
       "      <td>77.54</td>\n",
       "      <td>78</td>\n",
       "      <td>42</td>\n",
       "      <td>11.34</td>\n",
       "      <td>PF</td>\n",
       "      <td>1610605822</td>\n",
       "    </tr>\n",
       "    <tr>\n",
       "      <th>2</th>\n",
       "      <td>Sirpur</td>\n",
       "      <td>19.4833</td>\n",
       "      <td>79.6000</td>\n",
       "      <td>84.40</td>\n",
       "      <td>20</td>\n",
       "      <td>0</td>\n",
       "      <td>3.85</td>\n",
       "      <td>IN</td>\n",
       "      <td>1610605954</td>\n",
       "    </tr>\n",
       "    <tr>\n",
       "      <th>3</th>\n",
       "      <td>Codrington</td>\n",
       "      <td>-38.2667</td>\n",
       "      <td>141.9667</td>\n",
       "      <td>58.91</td>\n",
       "      <td>64</td>\n",
       "      <td>96</td>\n",
       "      <td>15.48</td>\n",
       "      <td>AU</td>\n",
       "      <td>1610605955</td>\n",
       "    </tr>\n",
       "    <tr>\n",
       "      <th>4</th>\n",
       "      <td>Bengkulu</td>\n",
       "      <td>-3.8004</td>\n",
       "      <td>102.2655</td>\n",
       "      <td>84.92</td>\n",
       "      <td>61</td>\n",
       "      <td>100</td>\n",
       "      <td>7.25</td>\n",
       "      <td>ID</td>\n",
       "      <td>1610605957</td>\n",
       "    </tr>\n",
       "  </tbody>\n",
       "</table>\n",
       "</div>"
      ],
      "text/plain": [
       "          City      Lat       Lng  Max temp  Humidity  Cloudiness  Wind Speed  \\\n",
       "0  San Quintín  30.4833 -115.9500     59.14        51           5        5.79   \n",
       "1       Atuona  -9.8000 -139.0333     77.54        78          42       11.34   \n",
       "2       Sirpur  19.4833   79.6000     84.40        20           0        3.85   \n",
       "3   Codrington -38.2667  141.9667     58.91        64          96       15.48   \n",
       "4     Bengkulu  -3.8004  102.2655     84.92        61         100        7.25   \n",
       "\n",
       "  Country        Date  \n",
       "0      MX  1610605952  \n",
       "1      PF  1610605822  \n",
       "2      IN  1610605954  \n",
       "3      AU  1610605955  \n",
       "4      ID  1610605957  "
      ]
     },
     "execution_count": 7,
     "metadata": {},
     "output_type": "execute_result"
    }
   ],
   "source": [
    "cities_df=pd.read_csv (data_file)\n",
    "cities_df.head()"
   ]
  },
  {
   "cell_type": "code",
   "execution_count": 8,
   "metadata": {},
   "outputs": [],
   "source": [
    "cities_df.to_html('table.html',index=True, classes=['table','table-striped','table-hover'])"
   ]
  },
  {
   "cell_type": "code",
   "execution_count": null,
   "metadata": {},
   "outputs": [],
   "source": []
  }
 ],
 "metadata": {
  "kernelspec": {
   "display_name": "Python 3",
   "language": "python",
   "name": "python3"
  },
  "language_info": {
   "codemirror_mode": {
    "name": "ipython",
    "version": 3
   },
   "file_extension": ".py",
   "mimetype": "text/x-python",
   "name": "python",
   "nbconvert_exporter": "python",
   "pygments_lexer": "ipython3",
   "version": "3.6.10"
  }
 },
 "nbformat": 4,
 "nbformat_minor": 4
}
